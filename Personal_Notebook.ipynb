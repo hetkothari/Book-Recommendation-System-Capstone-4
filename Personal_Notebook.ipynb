{
  "nbformat": 4,
  "nbformat_minor": 0,
  "metadata": {
    "colab": {
      "name": "Personal Notebook.ipynb",
      "provenance": [],
      "authorship_tag": "ABX9TyOpudhqRG2quzzQAk0n1awr",
      "include_colab_link": true
    },
    "kernelspec": {
      "name": "python3",
      "display_name": "Python 3"
    },
    "language_info": {
      "name": "python"
    }
  },
  "cells": [
    {
      "cell_type": "markdown",
      "metadata": {
        "id": "view-in-github",
        "colab_type": "text"
      },
      "source": [
        "<a href=\"https://colab.research.google.com/github/hetkothari/Book-Recommendation-System-Capstone-4/blob/main/Personal_Notebook.ipynb\" target=\"_parent\"><img src=\"https://colab.research.google.com/assets/colab-badge.svg\" alt=\"Open In Colab\"/></a>"
      ]
    },
    {
      "cell_type": "code",
      "metadata": {
        "colab": {
          "base_uri": "https://localhost:8080/"
        },
        "id": "FCLsVwkwdCv9",
        "outputId": "ff535ca3-8b2b-4565-be07-1b74593f8e79"
      },
      "source": [
        "import numpy as np\n",
        "import pandas as pd\n",
        "import matplotlib.pyplot as plt\n",
        "import seaborn as sns\n",
        "import warnings\n",
        "warnings.filterwarnings('ignore')\n",
        "from google.colab import drive\n",
        "drive.mount('/content/drive')"
      ],
      "execution_count": 206,
      "outputs": [
        {
          "output_type": "stream",
          "name": "stdout",
          "text": [
            "Drive already mounted at /content/drive; to attempt to forcibly remount, call drive.mount(\"/content/drive\", force_remount=True).\n"
          ]
        }
      ]
    },
    {
      "cell_type": "code",
      "metadata": {
        "id": "Q_GKbUI8dfmR"
      },
      "source": [
        "book   = pd.read_csv('/content/drive/MyDrive/Book Recommendation System - Het Kothari/Books.csv')\n",
        "user   = pd.read_csv('/content/drive/MyDrive/Book Recommendation System - Het Kothari/Users.csv')\n",
        "rating = pd.read_csv('/content/drive/MyDrive/Book Recommendation System - Het Kothari/Ratings.csv')"
      ],
      "execution_count": 207,
      "outputs": []
    },
    {
      "cell_type": "code",
      "metadata": {
        "colab": {
          "base_uri": "https://localhost:8080/",
          "height": 428
        },
        "id": "XJN7MPmOdnp5",
        "outputId": "1a07e1d7-5397-43c0-de4d-444e378d2e6d"
      },
      "source": [
        "book.head()"
      ],
      "execution_count": 208,
      "outputs": [
        {
          "output_type": "execute_result",
          "data": {
            "text/html": [
              "<div>\n",
              "<style scoped>\n",
              "    .dataframe tbody tr th:only-of-type {\n",
              "        vertical-align: middle;\n",
              "    }\n",
              "\n",
              "    .dataframe tbody tr th {\n",
              "        vertical-align: top;\n",
              "    }\n",
              "\n",
              "    .dataframe thead th {\n",
              "        text-align: right;\n",
              "    }\n",
              "</style>\n",
              "<table border=\"1\" class=\"dataframe\">\n",
              "  <thead>\n",
              "    <tr style=\"text-align: right;\">\n",
              "      <th></th>\n",
              "      <th>ISBN</th>\n",
              "      <th>Book-Title</th>\n",
              "      <th>Book-Author</th>\n",
              "      <th>Year-Of-Publication</th>\n",
              "      <th>Publisher</th>\n",
              "      <th>Image-URL-S</th>\n",
              "      <th>Image-URL-M</th>\n",
              "      <th>Image-URL-L</th>\n",
              "    </tr>\n",
              "  </thead>\n",
              "  <tbody>\n",
              "    <tr>\n",
              "      <th>0</th>\n",
              "      <td>0195153448</td>\n",
              "      <td>Classical Mythology</td>\n",
              "      <td>Mark P. O. Morford</td>\n",
              "      <td>2002</td>\n",
              "      <td>Oxford University Press</td>\n",
              "      <td>http://images.amazon.com/images/P/0195153448.0...</td>\n",
              "      <td>http://images.amazon.com/images/P/0195153448.0...</td>\n",
              "      <td>http://images.amazon.com/images/P/0195153448.0...</td>\n",
              "    </tr>\n",
              "    <tr>\n",
              "      <th>1</th>\n",
              "      <td>0002005018</td>\n",
              "      <td>Clara Callan</td>\n",
              "      <td>Richard Bruce Wright</td>\n",
              "      <td>2001</td>\n",
              "      <td>HarperFlamingo Canada</td>\n",
              "      <td>http://images.amazon.com/images/P/0002005018.0...</td>\n",
              "      <td>http://images.amazon.com/images/P/0002005018.0...</td>\n",
              "      <td>http://images.amazon.com/images/P/0002005018.0...</td>\n",
              "    </tr>\n",
              "    <tr>\n",
              "      <th>2</th>\n",
              "      <td>0060973129</td>\n",
              "      <td>Decision in Normandy</td>\n",
              "      <td>Carlo D'Este</td>\n",
              "      <td>1991</td>\n",
              "      <td>HarperPerennial</td>\n",
              "      <td>http://images.amazon.com/images/P/0060973129.0...</td>\n",
              "      <td>http://images.amazon.com/images/P/0060973129.0...</td>\n",
              "      <td>http://images.amazon.com/images/P/0060973129.0...</td>\n",
              "    </tr>\n",
              "    <tr>\n",
              "      <th>3</th>\n",
              "      <td>0374157065</td>\n",
              "      <td>Flu: The Story of the Great Influenza Pandemic...</td>\n",
              "      <td>Gina Bari Kolata</td>\n",
              "      <td>1999</td>\n",
              "      <td>Farrar Straus Giroux</td>\n",
              "      <td>http://images.amazon.com/images/P/0374157065.0...</td>\n",
              "      <td>http://images.amazon.com/images/P/0374157065.0...</td>\n",
              "      <td>http://images.amazon.com/images/P/0374157065.0...</td>\n",
              "    </tr>\n",
              "    <tr>\n",
              "      <th>4</th>\n",
              "      <td>0393045218</td>\n",
              "      <td>The Mummies of Urumchi</td>\n",
              "      <td>E. J. W. Barber</td>\n",
              "      <td>1999</td>\n",
              "      <td>W. W. Norton &amp;amp; Company</td>\n",
              "      <td>http://images.amazon.com/images/P/0393045218.0...</td>\n",
              "      <td>http://images.amazon.com/images/P/0393045218.0...</td>\n",
              "      <td>http://images.amazon.com/images/P/0393045218.0...</td>\n",
              "    </tr>\n",
              "  </tbody>\n",
              "</table>\n",
              "</div>"
            ],
            "text/plain": [
              "         ISBN  ...                                        Image-URL-L\n",
              "0  0195153448  ...  http://images.amazon.com/images/P/0195153448.0...\n",
              "1  0002005018  ...  http://images.amazon.com/images/P/0002005018.0...\n",
              "2  0060973129  ...  http://images.amazon.com/images/P/0060973129.0...\n",
              "3  0374157065  ...  http://images.amazon.com/images/P/0374157065.0...\n",
              "4  0393045218  ...  http://images.amazon.com/images/P/0393045218.0...\n",
              "\n",
              "[5 rows x 8 columns]"
            ]
          },
          "metadata": {},
          "execution_count": 208
        }
      ]
    },
    {
      "cell_type": "code",
      "metadata": {
        "colab": {
          "base_uri": "https://localhost:8080/",
          "height": 204
        },
        "id": "72NubM7_dsTy",
        "outputId": "0da3e764-d298-4541-f4b7-2be2cbb6068a"
      },
      "source": [
        "user.head()"
      ],
      "execution_count": 209,
      "outputs": [
        {
          "output_type": "execute_result",
          "data": {
            "text/html": [
              "<div>\n",
              "<style scoped>\n",
              "    .dataframe tbody tr th:only-of-type {\n",
              "        vertical-align: middle;\n",
              "    }\n",
              "\n",
              "    .dataframe tbody tr th {\n",
              "        vertical-align: top;\n",
              "    }\n",
              "\n",
              "    .dataframe thead th {\n",
              "        text-align: right;\n",
              "    }\n",
              "</style>\n",
              "<table border=\"1\" class=\"dataframe\">\n",
              "  <thead>\n",
              "    <tr style=\"text-align: right;\">\n",
              "      <th></th>\n",
              "      <th>User-ID</th>\n",
              "      <th>Location</th>\n",
              "      <th>Age</th>\n",
              "    </tr>\n",
              "  </thead>\n",
              "  <tbody>\n",
              "    <tr>\n",
              "      <th>0</th>\n",
              "      <td>1</td>\n",
              "      <td>nyc, new york, usa</td>\n",
              "      <td>NaN</td>\n",
              "    </tr>\n",
              "    <tr>\n",
              "      <th>1</th>\n",
              "      <td>2</td>\n",
              "      <td>stockton, california, usa</td>\n",
              "      <td>18.0</td>\n",
              "    </tr>\n",
              "    <tr>\n",
              "      <th>2</th>\n",
              "      <td>3</td>\n",
              "      <td>moscow, yukon territory, russia</td>\n",
              "      <td>NaN</td>\n",
              "    </tr>\n",
              "    <tr>\n",
              "      <th>3</th>\n",
              "      <td>4</td>\n",
              "      <td>porto, v.n.gaia, portugal</td>\n",
              "      <td>17.0</td>\n",
              "    </tr>\n",
              "    <tr>\n",
              "      <th>4</th>\n",
              "      <td>5</td>\n",
              "      <td>farnborough, hants, united kingdom</td>\n",
              "      <td>NaN</td>\n",
              "    </tr>\n",
              "  </tbody>\n",
              "</table>\n",
              "</div>"
            ],
            "text/plain": [
              "   User-ID                            Location   Age\n",
              "0        1                  nyc, new york, usa   NaN\n",
              "1        2           stockton, california, usa  18.0\n",
              "2        3     moscow, yukon territory, russia   NaN\n",
              "3        4           porto, v.n.gaia, portugal  17.0\n",
              "4        5  farnborough, hants, united kingdom   NaN"
            ]
          },
          "metadata": {},
          "execution_count": 209
        }
      ]
    },
    {
      "cell_type": "code",
      "metadata": {
        "colab": {
          "base_uri": "https://localhost:8080/",
          "height": 204
        },
        "id": "2kXB2vAqdwd2",
        "outputId": "ee523a73-983f-44aa-971c-69c71c587424"
      },
      "source": [
        "rating.head()"
      ],
      "execution_count": 210,
      "outputs": [
        {
          "output_type": "execute_result",
          "data": {
            "text/html": [
              "<div>\n",
              "<style scoped>\n",
              "    .dataframe tbody tr th:only-of-type {\n",
              "        vertical-align: middle;\n",
              "    }\n",
              "\n",
              "    .dataframe tbody tr th {\n",
              "        vertical-align: top;\n",
              "    }\n",
              "\n",
              "    .dataframe thead th {\n",
              "        text-align: right;\n",
              "    }\n",
              "</style>\n",
              "<table border=\"1\" class=\"dataframe\">\n",
              "  <thead>\n",
              "    <tr style=\"text-align: right;\">\n",
              "      <th></th>\n",
              "      <th>User-ID</th>\n",
              "      <th>ISBN</th>\n",
              "      <th>Book-Rating</th>\n",
              "    </tr>\n",
              "  </thead>\n",
              "  <tbody>\n",
              "    <tr>\n",
              "      <th>0</th>\n",
              "      <td>276725</td>\n",
              "      <td>034545104X</td>\n",
              "      <td>0</td>\n",
              "    </tr>\n",
              "    <tr>\n",
              "      <th>1</th>\n",
              "      <td>276726</td>\n",
              "      <td>0155061224</td>\n",
              "      <td>5</td>\n",
              "    </tr>\n",
              "    <tr>\n",
              "      <th>2</th>\n",
              "      <td>276727</td>\n",
              "      <td>0446520802</td>\n",
              "      <td>0</td>\n",
              "    </tr>\n",
              "    <tr>\n",
              "      <th>3</th>\n",
              "      <td>276729</td>\n",
              "      <td>052165615X</td>\n",
              "      <td>3</td>\n",
              "    </tr>\n",
              "    <tr>\n",
              "      <th>4</th>\n",
              "      <td>276729</td>\n",
              "      <td>0521795028</td>\n",
              "      <td>6</td>\n",
              "    </tr>\n",
              "  </tbody>\n",
              "</table>\n",
              "</div>"
            ],
            "text/plain": [
              "   User-ID        ISBN  Book-Rating\n",
              "0   276725  034545104X            0\n",
              "1   276726  0155061224            5\n",
              "2   276727  0446520802            0\n",
              "3   276729  052165615X            3\n",
              "4   276729  0521795028            6"
            ]
          },
          "metadata": {},
          "execution_count": 210
        }
      ]
    },
    {
      "cell_type": "code",
      "metadata": {
        "colab": {
          "base_uri": "https://localhost:8080/",
          "height": 390
        },
        "id": "D3AkJBFBd7jW",
        "outputId": "c2391165-17cb-4d6f-c2e0-3d9ecc92d1f6"
      },
      "source": [
        "user.describe(include='all')"
      ],
      "execution_count": 211,
      "outputs": [
        {
          "output_type": "execute_result",
          "data": {
            "text/html": [
              "<div>\n",
              "<style scoped>\n",
              "    .dataframe tbody tr th:only-of-type {\n",
              "        vertical-align: middle;\n",
              "    }\n",
              "\n",
              "    .dataframe tbody tr th {\n",
              "        vertical-align: top;\n",
              "    }\n",
              "\n",
              "    .dataframe thead th {\n",
              "        text-align: right;\n",
              "    }\n",
              "</style>\n",
              "<table border=\"1\" class=\"dataframe\">\n",
              "  <thead>\n",
              "    <tr style=\"text-align: right;\">\n",
              "      <th></th>\n",
              "      <th>User-ID</th>\n",
              "      <th>Location</th>\n",
              "      <th>Age</th>\n",
              "    </tr>\n",
              "  </thead>\n",
              "  <tbody>\n",
              "    <tr>\n",
              "      <th>count</th>\n",
              "      <td>278858.00000</td>\n",
              "      <td>278858</td>\n",
              "      <td>168096.000000</td>\n",
              "    </tr>\n",
              "    <tr>\n",
              "      <th>unique</th>\n",
              "      <td>NaN</td>\n",
              "      <td>57339</td>\n",
              "      <td>NaN</td>\n",
              "    </tr>\n",
              "    <tr>\n",
              "      <th>top</th>\n",
              "      <td>NaN</td>\n",
              "      <td>london, england, united kingdom</td>\n",
              "      <td>NaN</td>\n",
              "    </tr>\n",
              "    <tr>\n",
              "      <th>freq</th>\n",
              "      <td>NaN</td>\n",
              "      <td>2506</td>\n",
              "      <td>NaN</td>\n",
              "    </tr>\n",
              "    <tr>\n",
              "      <th>mean</th>\n",
              "      <td>139429.50000</td>\n",
              "      <td>NaN</td>\n",
              "      <td>34.751434</td>\n",
              "    </tr>\n",
              "    <tr>\n",
              "      <th>std</th>\n",
              "      <td>80499.51502</td>\n",
              "      <td>NaN</td>\n",
              "      <td>14.428097</td>\n",
              "    </tr>\n",
              "    <tr>\n",
              "      <th>min</th>\n",
              "      <td>1.00000</td>\n",
              "      <td>NaN</td>\n",
              "      <td>0.000000</td>\n",
              "    </tr>\n",
              "    <tr>\n",
              "      <th>25%</th>\n",
              "      <td>69715.25000</td>\n",
              "      <td>NaN</td>\n",
              "      <td>24.000000</td>\n",
              "    </tr>\n",
              "    <tr>\n",
              "      <th>50%</th>\n",
              "      <td>139429.50000</td>\n",
              "      <td>NaN</td>\n",
              "      <td>32.000000</td>\n",
              "    </tr>\n",
              "    <tr>\n",
              "      <th>75%</th>\n",
              "      <td>209143.75000</td>\n",
              "      <td>NaN</td>\n",
              "      <td>44.000000</td>\n",
              "    </tr>\n",
              "    <tr>\n",
              "      <th>max</th>\n",
              "      <td>278858.00000</td>\n",
              "      <td>NaN</td>\n",
              "      <td>244.000000</td>\n",
              "    </tr>\n",
              "  </tbody>\n",
              "</table>\n",
              "</div>"
            ],
            "text/plain": [
              "             User-ID                         Location            Age\n",
              "count   278858.00000                           278858  168096.000000\n",
              "unique           NaN                            57339            NaN\n",
              "top              NaN  london, england, united kingdom            NaN\n",
              "freq             NaN                             2506            NaN\n",
              "mean    139429.50000                              NaN      34.751434\n",
              "std      80499.51502                              NaN      14.428097\n",
              "min          1.00000                              NaN       0.000000\n",
              "25%      69715.25000                              NaN      24.000000\n",
              "50%     139429.50000                              NaN      32.000000\n",
              "75%     209143.75000                              NaN      44.000000\n",
              "max     278858.00000                              NaN     244.000000"
            ]
          },
          "metadata": {},
          "execution_count": 211
        }
      ]
    },
    {
      "cell_type": "code",
      "metadata": {
        "colab": {
          "base_uri": "https://localhost:8080/",
          "height": 390
        },
        "id": "V3CNvsuSeQAx",
        "outputId": "a2459c51-1e38-4dbd-fd73-2e1eea1285ec"
      },
      "source": [
        "rating.describe(include='all')"
      ],
      "execution_count": 212,
      "outputs": [
        {
          "output_type": "execute_result",
          "data": {
            "text/html": [
              "<div>\n",
              "<style scoped>\n",
              "    .dataframe tbody tr th:only-of-type {\n",
              "        vertical-align: middle;\n",
              "    }\n",
              "\n",
              "    .dataframe tbody tr th {\n",
              "        vertical-align: top;\n",
              "    }\n",
              "\n",
              "    .dataframe thead th {\n",
              "        text-align: right;\n",
              "    }\n",
              "</style>\n",
              "<table border=\"1\" class=\"dataframe\">\n",
              "  <thead>\n",
              "    <tr style=\"text-align: right;\">\n",
              "      <th></th>\n",
              "      <th>User-ID</th>\n",
              "      <th>ISBN</th>\n",
              "      <th>Book-Rating</th>\n",
              "    </tr>\n",
              "  </thead>\n",
              "  <tbody>\n",
              "    <tr>\n",
              "      <th>count</th>\n",
              "      <td>1.149780e+06</td>\n",
              "      <td>1149780</td>\n",
              "      <td>1.149780e+06</td>\n",
              "    </tr>\n",
              "    <tr>\n",
              "      <th>unique</th>\n",
              "      <td>NaN</td>\n",
              "      <td>340556</td>\n",
              "      <td>NaN</td>\n",
              "    </tr>\n",
              "    <tr>\n",
              "      <th>top</th>\n",
              "      <td>NaN</td>\n",
              "      <td>0971880107</td>\n",
              "      <td>NaN</td>\n",
              "    </tr>\n",
              "    <tr>\n",
              "      <th>freq</th>\n",
              "      <td>NaN</td>\n",
              "      <td>2502</td>\n",
              "      <td>NaN</td>\n",
              "    </tr>\n",
              "    <tr>\n",
              "      <th>mean</th>\n",
              "      <td>1.403864e+05</td>\n",
              "      <td>NaN</td>\n",
              "      <td>2.866950e+00</td>\n",
              "    </tr>\n",
              "    <tr>\n",
              "      <th>std</th>\n",
              "      <td>8.056228e+04</td>\n",
              "      <td>NaN</td>\n",
              "      <td>3.854184e+00</td>\n",
              "    </tr>\n",
              "    <tr>\n",
              "      <th>min</th>\n",
              "      <td>2.000000e+00</td>\n",
              "      <td>NaN</td>\n",
              "      <td>0.000000e+00</td>\n",
              "    </tr>\n",
              "    <tr>\n",
              "      <th>25%</th>\n",
              "      <td>7.034500e+04</td>\n",
              "      <td>NaN</td>\n",
              "      <td>0.000000e+00</td>\n",
              "    </tr>\n",
              "    <tr>\n",
              "      <th>50%</th>\n",
              "      <td>1.410100e+05</td>\n",
              "      <td>NaN</td>\n",
              "      <td>0.000000e+00</td>\n",
              "    </tr>\n",
              "    <tr>\n",
              "      <th>75%</th>\n",
              "      <td>2.110280e+05</td>\n",
              "      <td>NaN</td>\n",
              "      <td>7.000000e+00</td>\n",
              "    </tr>\n",
              "    <tr>\n",
              "      <th>max</th>\n",
              "      <td>2.788540e+05</td>\n",
              "      <td>NaN</td>\n",
              "      <td>1.000000e+01</td>\n",
              "    </tr>\n",
              "  </tbody>\n",
              "</table>\n",
              "</div>"
            ],
            "text/plain": [
              "             User-ID        ISBN   Book-Rating\n",
              "count   1.149780e+06     1149780  1.149780e+06\n",
              "unique           NaN      340556           NaN\n",
              "top              NaN  0971880107           NaN\n",
              "freq             NaN        2502           NaN\n",
              "mean    1.403864e+05         NaN  2.866950e+00\n",
              "std     8.056228e+04         NaN  3.854184e+00\n",
              "min     2.000000e+00         NaN  0.000000e+00\n",
              "25%     7.034500e+04         NaN  0.000000e+00\n",
              "50%     1.410100e+05         NaN  0.000000e+00\n",
              "75%     2.110280e+05         NaN  7.000000e+00\n",
              "max     2.788540e+05         NaN  1.000000e+01"
            ]
          },
          "metadata": {},
          "execution_count": 212
        }
      ]
    },
    {
      "cell_type": "code",
      "metadata": {
        "colab": {
          "base_uri": "https://localhost:8080/",
          "height": 227
        },
        "id": "jxT2BWUYeUGv",
        "outputId": "aedd5def-614d-4aa0-ea39-61f52cc8b05e"
      },
      "source": [
        "book.describe(include='all')"
      ],
      "execution_count": 213,
      "outputs": [
        {
          "output_type": "execute_result",
          "data": {
            "text/html": [
              "<div>\n",
              "<style scoped>\n",
              "    .dataframe tbody tr th:only-of-type {\n",
              "        vertical-align: middle;\n",
              "    }\n",
              "\n",
              "    .dataframe tbody tr th {\n",
              "        vertical-align: top;\n",
              "    }\n",
              "\n",
              "    .dataframe thead th {\n",
              "        text-align: right;\n",
              "    }\n",
              "</style>\n",
              "<table border=\"1\" class=\"dataframe\">\n",
              "  <thead>\n",
              "    <tr style=\"text-align: right;\">\n",
              "      <th></th>\n",
              "      <th>ISBN</th>\n",
              "      <th>Book-Title</th>\n",
              "      <th>Book-Author</th>\n",
              "      <th>Year-Of-Publication</th>\n",
              "      <th>Publisher</th>\n",
              "      <th>Image-URL-S</th>\n",
              "      <th>Image-URL-M</th>\n",
              "      <th>Image-URL-L</th>\n",
              "    </tr>\n",
              "  </thead>\n",
              "  <tbody>\n",
              "    <tr>\n",
              "      <th>count</th>\n",
              "      <td>271360</td>\n",
              "      <td>271360</td>\n",
              "      <td>271359</td>\n",
              "      <td>271360</td>\n",
              "      <td>271358</td>\n",
              "      <td>271360</td>\n",
              "      <td>271360</td>\n",
              "      <td>271357</td>\n",
              "    </tr>\n",
              "    <tr>\n",
              "      <th>unique</th>\n",
              "      <td>271360</td>\n",
              "      <td>242135</td>\n",
              "      <td>102023</td>\n",
              "      <td>202</td>\n",
              "      <td>16807</td>\n",
              "      <td>271044</td>\n",
              "      <td>271044</td>\n",
              "      <td>271041</td>\n",
              "    </tr>\n",
              "    <tr>\n",
              "      <th>top</th>\n",
              "      <td>037327016X</td>\n",
              "      <td>Selected Poems</td>\n",
              "      <td>Agatha Christie</td>\n",
              "      <td>2002</td>\n",
              "      <td>Harlequin</td>\n",
              "      <td>http://images.amazon.com/images/P/044022330X.0...</td>\n",
              "      <td>http://images.amazon.com/images/P/068825294X.0...</td>\n",
              "      <td>http://images.amazon.com/images/P/044023722X.0...</td>\n",
              "    </tr>\n",
              "    <tr>\n",
              "      <th>freq</th>\n",
              "      <td>1</td>\n",
              "      <td>27</td>\n",
              "      <td>632</td>\n",
              "      <td>13903</td>\n",
              "      <td>7535</td>\n",
              "      <td>2</td>\n",
              "      <td>2</td>\n",
              "      <td>2</td>\n",
              "    </tr>\n",
              "  </tbody>\n",
              "</table>\n",
              "</div>"
            ],
            "text/plain": [
              "              ISBN  ...                                        Image-URL-L\n",
              "count       271360  ...                                             271357\n",
              "unique      271360  ...                                             271041\n",
              "top     037327016X  ...  http://images.amazon.com/images/P/044023722X.0...\n",
              "freq             1  ...                                                  2\n",
              "\n",
              "[4 rows x 8 columns]"
            ]
          },
          "metadata": {},
          "execution_count": 213
        }
      ]
    },
    {
      "cell_type": "code",
      "metadata": {
        "colab": {
          "base_uri": "https://localhost:8080/"
        },
        "id": "orz2jWzQejWZ",
        "outputId": "c08598c5-4922-48c1-c444-e4f42be2506a"
      },
      "source": [
        "book.info()"
      ],
      "execution_count": 214,
      "outputs": [
        {
          "output_type": "stream",
          "name": "stdout",
          "text": [
            "<class 'pandas.core.frame.DataFrame'>\n",
            "RangeIndex: 271360 entries, 0 to 271359\n",
            "Data columns (total 8 columns):\n",
            " #   Column               Non-Null Count   Dtype \n",
            "---  ------               --------------   ----- \n",
            " 0   ISBN                 271360 non-null  object\n",
            " 1   Book-Title           271360 non-null  object\n",
            " 2   Book-Author          271359 non-null  object\n",
            " 3   Year-Of-Publication  271360 non-null  object\n",
            " 4   Publisher            271358 non-null  object\n",
            " 5   Image-URL-S          271360 non-null  object\n",
            " 6   Image-URL-M          271360 non-null  object\n",
            " 7   Image-URL-L          271357 non-null  object\n",
            "dtypes: object(8)\n",
            "memory usage: 16.6+ MB\n"
          ]
        }
      ]
    },
    {
      "cell_type": "code",
      "metadata": {
        "colab": {
          "base_uri": "https://localhost:8080/"
        },
        "id": "BDwpM7k_epuB",
        "outputId": "517d8b36-1349-443a-dc2e-a3fd0317c750"
      },
      "source": [
        "rating.info()"
      ],
      "execution_count": 215,
      "outputs": [
        {
          "output_type": "stream",
          "name": "stdout",
          "text": [
            "<class 'pandas.core.frame.DataFrame'>\n",
            "RangeIndex: 1149780 entries, 0 to 1149779\n",
            "Data columns (total 3 columns):\n",
            " #   Column       Non-Null Count    Dtype \n",
            "---  ------       --------------    ----- \n",
            " 0   User-ID      1149780 non-null  int64 \n",
            " 1   ISBN         1149780 non-null  object\n",
            " 2   Book-Rating  1149780 non-null  int64 \n",
            "dtypes: int64(2), object(1)\n",
            "memory usage: 26.3+ MB\n"
          ]
        }
      ]
    },
    {
      "cell_type": "code",
      "metadata": {
        "colab": {
          "base_uri": "https://localhost:8080/"
        },
        "id": "iTbmIoH5etaU",
        "outputId": "b9e4fe25-94cd-4bb0-ae04-eb5dd654eea9"
      },
      "source": [
        "user.info()"
      ],
      "execution_count": 216,
      "outputs": [
        {
          "output_type": "stream",
          "name": "stdout",
          "text": [
            "<class 'pandas.core.frame.DataFrame'>\n",
            "RangeIndex: 278858 entries, 0 to 278857\n",
            "Data columns (total 3 columns):\n",
            " #   Column    Non-Null Count   Dtype  \n",
            "---  ------    --------------   -----  \n",
            " 0   User-ID   278858 non-null  int64  \n",
            " 1   Location  278858 non-null  object \n",
            " 2   Age       168096 non-null  float64\n",
            "dtypes: float64(1), int64(1), object(1)\n",
            "memory usage: 6.4+ MB\n"
          ]
        }
      ]
    },
    {
      "cell_type": "code",
      "metadata": {
        "id": "LSMR0kpVe7FR"
      },
      "source": [
        "book = book.dropna(axis = 0)"
      ],
      "execution_count": 217,
      "outputs": []
    },
    {
      "cell_type": "code",
      "metadata": {
        "id": "VuwRDW8OfjIP"
      },
      "source": [
        "rating = rating.dropna(axis = 0)"
      ],
      "execution_count": 218,
      "outputs": []
    },
    {
      "cell_type": "code",
      "metadata": {
        "id": "bPLztvnTfqwc"
      },
      "source": [
        "user.drop(['Age'],axis=1,inplace=True)"
      ],
      "execution_count": 219,
      "outputs": []
    },
    {
      "cell_type": "code",
      "metadata": {
        "colab": {
          "base_uri": "https://localhost:8080/"
        },
        "id": "7TMp1bf4gb05",
        "outputId": "a0734c0c-d84b-452f-8913-b42b0ecc1b41"
      },
      "source": [
        "print (len(rating[rating.duplicated()]))\n",
        "print (len(user[user.duplicated()]))\n",
        "len(book[book.duplicated()])\n"
      ],
      "execution_count": 220,
      "outputs": [
        {
          "output_type": "stream",
          "name": "stdout",
          "text": [
            "0\n",
            "0\n"
          ]
        },
        {
          "output_type": "execute_result",
          "data": {
            "text/plain": [
              "0"
            ]
          },
          "metadata": {},
          "execution_count": 220
        }
      ]
    },
    {
      "cell_type": "code",
      "metadata": {
        "colab": {
          "base_uri": "https://localhost:8080/"
        },
        "id": "YQl1D40Uh_oT",
        "outputId": "f15a497e-e3c0-4b8f-c4fa-4e9a0d38ab7f"
      },
      "source": [
        "book['Year-Of-Publication'].unique()"
      ],
      "execution_count": 221,
      "outputs": [
        {
          "output_type": "execute_result",
          "data": {
            "text/plain": [
              "array([2002, 2001, 1991, 1999, 2000, 1993, 1996, 1988, 2004, 1998, 1994,\n",
              "       2003, 1997, 1983, 1979, 1995, 1982, 1985, 1992, 1986, 1978, 1980,\n",
              "       1952, 1987, 1990, 1981, 1989, 1984, 0, 1968, 1961, 1958, 1974,\n",
              "       1976, 1971, 1977, 1975, 1965, 1941, 1970, 1962, 1973, 1972, 1960,\n",
              "       1966, 1920, 1956, 1959, 1953, 1951, 1942, 1963, 1964, 1969, 1954,\n",
              "       1950, 1967, 2005, 1957, 1940, 1937, 1955, 1946, 1936, 1930, 2011,\n",
              "       1925, 1948, 1943, 1947, 1945, 1923, 2020, 1939, 1926, 1938, 2030,\n",
              "       1911, 1904, 1949, 1932, 1928, 1929, 1927, 1931, 1914, 2050, 1934,\n",
              "       1910, 1933, 1902, 1924, 1921, 1900, 2038, 2026, 1944, 1917, 1901,\n",
              "       2010, 1908, 1906, 1935, 1806, 2021, '2000', '1995', '1999', '2004',\n",
              "       '2003', '1990', '1994', '1986', '1989', '2002', '1981', '1993',\n",
              "       '1983', '1982', '1976', '1991', '1977', '1998', '1992', '1996',\n",
              "       '0', '1997', '2001', '1974', '1968', '1987', '1984', '1988',\n",
              "       '1963', '1956', '1970', '1985', '1978', '1973', '1980', '1979',\n",
              "       '1975', '1969', '1961', '1965', '1939', '1958', '1950', '1953',\n",
              "       '1966', '1971', '1959', '1972', '1955', '1957', '1945', '1960',\n",
              "       '1967', '1932', '1924', '1964', '2012', '1911', '1927', '1948',\n",
              "       '1962', '2006', '1952', '1940', '1951', '1931', '1954', '2005',\n",
              "       '1930', '1941', '1944', '1943', '1938', '1900', '1942', '1923',\n",
              "       '1920', '1933', '1909', '1946', '2008', '1378', '2030', '1936',\n",
              "       '1947', '2011', '2020', '1919', '1949', '1922', '1897', '2024',\n",
              "       '1376', '1926', '2037'], dtype=object)"
            ]
          },
          "metadata": {},
          "execution_count": 221
        }
      ]
    },
    {
      "cell_type": "code",
      "metadata": {
        "id": "7w_RKCH4ic7E"
      },
      "source": [
        "book['Year-Of-Publication'] = book['Year-Of-Publication'].astype(int)"
      ],
      "execution_count": 222,
      "outputs": []
    },
    {
      "cell_type": "code",
      "metadata": {
        "id": "49Be9_v3igQX"
      },
      "source": [
        "book = book[book['Year-Of-Publication'] <= 2020 ]\n",
        "book = book[book['Year-Of-Publication'] != 0 ]\n",
        "book = book[book['Year-Of-Publication'] >= 1800 ]"
      ],
      "execution_count": 223,
      "outputs": []
    },
    {
      "cell_type": "code",
      "metadata": {
        "colab": {
          "base_uri": "https://localhost:8080/",
          "height": 353
        },
        "id": "tZ8K0WR_-mqz",
        "outputId": "3d37295a-0ec8-4822-e507-e8a0e49bc2ff"
      },
      "source": [
        "fig, axes = plt.subplots(1, 1, figsize=(10, 5)) \n",
        "_ = book['Publisher'].value_counts().head(10).sort_values(ascending=True).plot(kind = 'barh', title='Top 10 Publisher', fontsize=12)\n",
        "plt.xlabel('count')\n",
        "plt.ylabel('Publisher')\n",
        "plt.show()"
      ],
      "execution_count": 225,
      "outputs": [
        {
          "output_type": "display_data",
          "data": {
            "image/png": "[encoded data removed]",
            "text/plain": [
              "<Figure size 720x360 with 1 Axes>"
            ]
          },
          "metadata": {
            "needs_background": "light"
          }
        }
      ]
    },
    {
      "cell_type": "code",
      "metadata": {
        "colab": {
          "base_uri": "https://localhost:8080/",
          "height": 350
        },
        "id": "HlM3_jJL--Vi",
        "outputId": "7d50957f-22fa-4651-8db3-cb952889f06f"
      },
      "source": [
        "plt.figure(figsize=(10,5))\n",
        "sns.countplot(y='Book-Title',data=book, order=pd.value_counts(book['Book-Title']).iloc[:10].index)\n",
        "plt.title('Top 10 Book-Title')\n",
        "plt.show()"
      ],
      "execution_count": 230,
      "outputs": [
        {
          "output_type": "display_data",
          "data": {
            "image/png": "[encoded data removed]",
            "text/plain": [
              "<Figure size 720x360 with 1 Axes>"
            ]
          },
          "metadata": {
            "needs_background": "light"
          }
        }
      ]
    },
    {
      "cell_type": "code",
      "metadata": {
        "colab": {
          "base_uri": "https://localhost:8080/",
          "height": 353
        },
        "id": "t_CTBaIH-uw8",
        "outputId": "052d09c9-347e-4b56-b8f4-8e9b352502fa"
      },
      "source": [
        "fig, axes = plt.subplots(1, 1, figsize=(10, 5)) \n",
        "_ = rating['Book-Rating'].value_counts().head(10).sort_values(ascending=True).plot(kind = 'barh', title='Top 10 Book-Rating', fontsize=12)\n",
        "plt.xlabel('count')\n",
        "plt.ylabel('Book-Rating')\n",
        "plt.show()"
      ],
      "execution_count": 226,
      "outputs": [
        {
          "output_type": "display_data",
          "data": {
            "image/png": "[encoded data removed]",
            "text/plain": [
              "<Figure size 720x360 with 1 Axes>"
            ]
          },
          "metadata": {
            "needs_background": "light"
          }
        }
      ]
    },
    {
      "cell_type": "code",
      "metadata": {
        "colab": {
          "base_uri": "https://localhost:8080/",
          "height": 353
        },
        "id": "ZQt248aY-0Bt",
        "outputId": "0ee595d7-1ef8-41d6-f4de-bed825a2786d"
      },
      "source": [
        "fig, axes = plt.subplots(1, 1, figsize=(10, 5)) \n",
        "_ = book['Book-Author'].value_counts().head(10).sort_values(ascending=True).plot(kind = 'barh', title='Top 10 Book-Author', fontsize=12)\n",
        "plt.xlabel('count')\n",
        "plt.ylabel('Book-Author')\n",
        "plt.show()"
      ],
      "execution_count": 227,
      "outputs": [
        {
          "output_type": "display_data",
          "data": {
            "image/png": "[encoded data removed]",
            "text/plain": [
              "<Figure size 720x360 with 1 Axes>"
            ]
          },
          "metadata": {
            "needs_background": "light"
          }
        }
      ]
    },
    {
      "cell_type": "code",
      "metadata": {
        "id": "noNDMuBb_dZZ"
      },
      "source": [
        "x = rating['User-ID'].value_counts() > 50\n",
        "y = x[x].index  \n",
        "print(y.shape)\n",
        "combine = rating[rating['User-ID'].isin(y)]\n",
        "combine"
      ],
      "execution_count": null,
      "outputs": []
    },
    {
      "cell_type": "code",
      "metadata": {
        "colab": {
          "base_uri": "https://localhost:8080/",
          "height": 847
        },
        "id": "N89krl2K_hF6",
        "outputId": "21eef090-0572-459e-eb89-3aabe165e0b7"
      },
      "source": [
        "final = pd.merge(combine, book, on='ISBN')\n",
        "final"
      ],
      "execution_count": 234,
      "outputs": [
        {
          "output_type": "execute_result",
          "data": {
            "text/html": [
              "<div>\n",
              "<style scoped>\n",
              "    .dataframe tbody tr th:only-of-type {\n",
              "        vertical-align: middle;\n",
              "    }\n",
              "\n",
              "    .dataframe tbody tr th {\n",
              "        vertical-align: top;\n",
              "    }\n",
              "\n",
              "    .dataframe thead th {\n",
              "        text-align: right;\n",
              "    }\n",
              "</style>\n",
              "<table border=\"1\" class=\"dataframe\">\n",
              "  <thead>\n",
              "    <tr style=\"text-align: right;\">\n",
              "      <th></th>\n",
              "      <th>User-ID</th>\n",
              "      <th>ISBN</th>\n",
              "      <th>Book-Rating</th>\n",
              "      <th>Book-Title</th>\n",
              "      <th>Book-Author</th>\n",
              "      <th>Year-Of-Publication</th>\n",
              "      <th>Publisher</th>\n",
              "      <th>Image-URL-S</th>\n",
              "      <th>Image-URL-M</th>\n",
              "      <th>Image-URL-L</th>\n",
              "    </tr>\n",
              "  </thead>\n",
              "  <tbody>\n",
              "    <tr>\n",
              "      <th>0</th>\n",
              "      <td>276847</td>\n",
              "      <td>0446364193</td>\n",
              "      <td>0</td>\n",
              "      <td>Along Came a Spider (Alex Cross Novels)</td>\n",
              "      <td>James Patterson</td>\n",
              "      <td>1993</td>\n",
              "      <td>Warner Books</td>\n",
              "      <td>http://images.amazon.com/images/P/0446364193.0...</td>\n",
              "      <td>http://images.amazon.com/images/P/0446364193.0...</td>\n",
              "      <td>http://images.amazon.com/images/P/0446364193.0...</td>\n",
              "    </tr>\n",
              "    <tr>\n",
              "      <th>1</th>\n",
              "      <td>278418</td>\n",
              "      <td>0446364193</td>\n",
              "      <td>0</td>\n",
              "      <td>Along Came a Spider (Alex Cross Novels)</td>\n",
              "      <td>James Patterson</td>\n",
              "      <td>1993</td>\n",
              "      <td>Warner Books</td>\n",
              "      <td>http://images.amazon.com/images/P/0446364193.0...</td>\n",
              "      <td>http://images.amazon.com/images/P/0446364193.0...</td>\n",
              "      <td>http://images.amazon.com/images/P/0446364193.0...</td>\n",
              "    </tr>\n",
              "    <tr>\n",
              "      <th>2</th>\n",
              "      <td>5483</td>\n",
              "      <td>0446364193</td>\n",
              "      <td>0</td>\n",
              "      <td>Along Came a Spider (Alex Cross Novels)</td>\n",
              "      <td>James Patterson</td>\n",
              "      <td>1993</td>\n",
              "      <td>Warner Books</td>\n",
              "      <td>http://images.amazon.com/images/P/0446364193.0...</td>\n",
              "      <td>http://images.amazon.com/images/P/0446364193.0...</td>\n",
              "      <td>http://images.amazon.com/images/P/0446364193.0...</td>\n",
              "    </tr>\n",
              "    <tr>\n",
              "      <th>3</th>\n",
              "      <td>7346</td>\n",
              "      <td>0446364193</td>\n",
              "      <td>0</td>\n",
              "      <td>Along Came a Spider (Alex Cross Novels)</td>\n",
              "      <td>James Patterson</td>\n",
              "      <td>1993</td>\n",
              "      <td>Warner Books</td>\n",
              "      <td>http://images.amazon.com/images/P/0446364193.0...</td>\n",
              "      <td>http://images.amazon.com/images/P/0446364193.0...</td>\n",
              "      <td>http://images.amazon.com/images/P/0446364193.0...</td>\n",
              "    </tr>\n",
              "    <tr>\n",
              "      <th>4</th>\n",
              "      <td>8362</td>\n",
              "      <td>0446364193</td>\n",
              "      <td>0</td>\n",
              "      <td>Along Came a Spider (Alex Cross Novels)</td>\n",
              "      <td>James Patterson</td>\n",
              "      <td>1993</td>\n",
              "      <td>Warner Books</td>\n",
              "      <td>http://images.amazon.com/images/P/0446364193.0...</td>\n",
              "      <td>http://images.amazon.com/images/P/0446364193.0...</td>\n",
              "      <td>http://images.amazon.com/images/P/0446364193.0...</td>\n",
              "    </tr>\n",
              "    <tr>\n",
              "      <th>...</th>\n",
              "      <td>...</td>\n",
              "      <td>...</td>\n",
              "      <td>...</td>\n",
              "      <td>...</td>\n",
              "      <td>...</td>\n",
              "      <td>...</td>\n",
              "      <td>...</td>\n",
              "      <td>...</td>\n",
              "      <td>...</td>\n",
              "      <td>...</td>\n",
              "    </tr>\n",
              "    <tr>\n",
              "      <th>692635</th>\n",
              "      <td>276688</td>\n",
              "      <td>0449907422</td>\n",
              "      <td>0</td>\n",
              "      <td>Jazz Funeral: A Skip Langdon Novel</td>\n",
              "      <td>Julie Smith</td>\n",
              "      <td>1993</td>\n",
              "      <td>Ballantine Books</td>\n",
              "      <td>http://images.amazon.com/images/P/0449907422.0...</td>\n",
              "      <td>http://images.amazon.com/images/P/0449907422.0...</td>\n",
              "      <td>http://images.amazon.com/images/P/0449907422.0...</td>\n",
              "    </tr>\n",
              "    <tr>\n",
              "      <th>692636</th>\n",
              "      <td>276688</td>\n",
              "      <td>0517145553</td>\n",
              "      <td>0</td>\n",
              "      <td>Mostly Harmless</td>\n",
              "      <td>Douglas Adams</td>\n",
              "      <td>1995</td>\n",
              "      <td>Random House Value Pub</td>\n",
              "      <td>http://images.amazon.com/images/P/0517145553.0...</td>\n",
              "      <td>http://images.amazon.com/images/P/0517145553.0...</td>\n",
              "      <td>http://images.amazon.com/images/P/0517145553.0...</td>\n",
              "    </tr>\n",
              "    <tr>\n",
              "      <th>692637</th>\n",
              "      <td>276688</td>\n",
              "      <td>0684838672</td>\n",
              "      <td>0</td>\n",
              "      <td>The LANGUAGE OF NAMES : WHAT WE CALL OURSELVES...</td>\n",
              "      <td>Justin Kaplan</td>\n",
              "      <td>1999</td>\n",
              "      <td>Touchstone</td>\n",
              "      <td>http://images.amazon.com/images/P/0684838672.0...</td>\n",
              "      <td>http://images.amazon.com/images/P/0684838672.0...</td>\n",
              "      <td>http://images.amazon.com/images/P/0684838672.0...</td>\n",
              "    </tr>\n",
              "    <tr>\n",
              "      <th>692638</th>\n",
              "      <td>276688</td>\n",
              "      <td>0788192043</td>\n",
              "      <td>0</td>\n",
              "      <td>The Hundred Secret Senses</td>\n",
              "      <td>Amy Tan</td>\n",
              "      <td>2000</td>\n",
              "      <td>DIANE Publishing Company</td>\n",
              "      <td>http://images.amazon.com/images/P/0788192043.0...</td>\n",
              "      <td>http://images.amazon.com/images/P/0788192043.0...</td>\n",
              "      <td>http://images.amazon.com/images/P/0788192043.0...</td>\n",
              "    </tr>\n",
              "    <tr>\n",
              "      <th>692639</th>\n",
              "      <td>276688</td>\n",
              "      <td>1575660792</td>\n",
              "      <td>7</td>\n",
              "      <td>Gray Matter</td>\n",
              "      <td>Shirley Kennett</td>\n",
              "      <td>1996</td>\n",
              "      <td>Kensington Publishing Corporation</td>\n",
              "      <td>http://images.amazon.com/images/P/1575660792.0...</td>\n",
              "      <td>http://images.amazon.com/images/P/1575660792.0...</td>\n",
              "      <td>http://images.amazon.com/images/P/1575660792.0...</td>\n",
              "    </tr>\n",
              "  </tbody>\n",
              "</table>\n",
              "<p>692640 rows × 10 columns</p>\n",
              "</div>"
            ],
            "text/plain": [
              "        User-ID  ...                                        Image-URL-L\n",
              "0        276847  ...  http://images.amazon.com/images/P/0446364193.0...\n",
              "1        278418  ...  http://images.amazon.com/images/P/0446364193.0...\n",
              "2          5483  ...  http://images.amazon.com/images/P/0446364193.0...\n",
              "3          7346  ...  http://images.amazon.com/images/P/0446364193.0...\n",
              "4          8362  ...  http://images.amazon.com/images/P/0446364193.0...\n",
              "...         ...  ...                                                ...\n",
              "692635   276688  ...  http://images.amazon.com/images/P/0449907422.0...\n",
              "692636   276688  ...  http://images.amazon.com/images/P/0517145553.0...\n",
              "692637   276688  ...  http://images.amazon.com/images/P/0684838672.0...\n",
              "692638   276688  ...  http://images.amazon.com/images/P/0788192043.0...\n",
              "692639   276688  ...  http://images.amazon.com/images/P/1575660792.0...\n",
              "\n",
              "[692640 rows x 10 columns]"
            ]
          },
          "metadata": {},
          "execution_count": 234
        }
      ]
    },
    {
      "cell_type": "code",
      "metadata": {
        "colab": {
          "base_uri": "https://localhost:8080/",
          "height": 830
        },
        "id": "zsnB41Xq_iGl",
        "outputId": "cfab1b1f-270a-4ede-eb33-8fb638b47c10"
      },
      "source": [
        "finalall = final.groupby('Book-Title')['Book-Rating'].count().reset_index()\n",
        "final_rating = final.merge(finalall, on='Book-Title')\n",
        "final_rating"
      ],
      "execution_count": 235,
      "outputs": [
        {
          "output_type": "execute_result",
          "data": {
            "text/html": [
              "<div>\n",
              "<style scoped>\n",
              "    .dataframe tbody tr th:only-of-type {\n",
              "        vertical-align: middle;\n",
              "    }\n",
              "\n",
              "    .dataframe tbody tr th {\n",
              "        vertical-align: top;\n",
              "    }\n",
              "\n",
              "    .dataframe thead th {\n",
              "        text-align: right;\n",
              "    }\n",
              "</style>\n",
              "<table border=\"1\" class=\"dataframe\">\n",
              "  <thead>\n",
              "    <tr style=\"text-align: right;\">\n",
              "      <th></th>\n",
              "      <th>User-ID</th>\n",
              "      <th>ISBN</th>\n",
              "      <th>Book-Rating_x</th>\n",
              "      <th>Book-Title</th>\n",
              "      <th>Book-Author</th>\n",
              "      <th>Year-Of-Publication</th>\n",
              "      <th>Publisher</th>\n",
              "      <th>Image-URL-S</th>\n",
              "      <th>Image-URL-M</th>\n",
              "      <th>Image-URL-L</th>\n",
              "      <th>Book-Rating_y</th>\n",
              "    </tr>\n",
              "  </thead>\n",
              "  <tbody>\n",
              "    <tr>\n",
              "      <th>0</th>\n",
              "      <td>276847</td>\n",
              "      <td>0446364193</td>\n",
              "      <td>0</td>\n",
              "      <td>Along Came a Spider (Alex Cross Novels)</td>\n",
              "      <td>James Patterson</td>\n",
              "      <td>1993</td>\n",
              "      <td>Warner Books</td>\n",
              "      <td>http://images.amazon.com/images/P/0446364193.0...</td>\n",
              "      <td>http://images.amazon.com/images/P/0446364193.0...</td>\n",
              "      <td>http://images.amazon.com/images/P/0446364193.0...</td>\n",
              "      <td>195</td>\n",
              "    </tr>\n",
              "    <tr>\n",
              "      <th>1</th>\n",
              "      <td>278418</td>\n",
              "      <td>0446364193</td>\n",
              "      <td>0</td>\n",
              "      <td>Along Came a Spider (Alex Cross Novels)</td>\n",
              "      <td>James Patterson</td>\n",
              "      <td>1993</td>\n",
              "      <td>Warner Books</td>\n",
              "      <td>http://images.amazon.com/images/P/0446364193.0...</td>\n",
              "      <td>http://images.amazon.com/images/P/0446364193.0...</td>\n",
              "      <td>http://images.amazon.com/images/P/0446364193.0...</td>\n",
              "      <td>195</td>\n",
              "    </tr>\n",
              "    <tr>\n",
              "      <th>2</th>\n",
              "      <td>5483</td>\n",
              "      <td>0446364193</td>\n",
              "      <td>0</td>\n",
              "      <td>Along Came a Spider (Alex Cross Novels)</td>\n",
              "      <td>James Patterson</td>\n",
              "      <td>1993</td>\n",
              "      <td>Warner Books</td>\n",
              "      <td>http://images.amazon.com/images/P/0446364193.0...</td>\n",
              "      <td>http://images.amazon.com/images/P/0446364193.0...</td>\n",
              "      <td>http://images.amazon.com/images/P/0446364193.0...</td>\n",
              "      <td>195</td>\n",
              "    </tr>\n",
              "    <tr>\n",
              "      <th>3</th>\n",
              "      <td>7346</td>\n",
              "      <td>0446364193</td>\n",
              "      <td>0</td>\n",
              "      <td>Along Came a Spider (Alex Cross Novels)</td>\n",
              "      <td>James Patterson</td>\n",
              "      <td>1993</td>\n",
              "      <td>Warner Books</td>\n",
              "      <td>http://images.amazon.com/images/P/0446364193.0...</td>\n",
              "      <td>http://images.amazon.com/images/P/0446364193.0...</td>\n",
              "      <td>http://images.amazon.com/images/P/0446364193.0...</td>\n",
              "      <td>195</td>\n",
              "    </tr>\n",
              "    <tr>\n",
              "      <th>4</th>\n",
              "      <td>8362</td>\n",
              "      <td>0446364193</td>\n",
              "      <td>0</td>\n",
              "      <td>Along Came a Spider (Alex Cross Novels)</td>\n",
              "      <td>James Patterson</td>\n",
              "      <td>1993</td>\n",
              "      <td>Warner Books</td>\n",
              "      <td>http://images.amazon.com/images/P/0446364193.0...</td>\n",
              "      <td>http://images.amazon.com/images/P/0446364193.0...</td>\n",
              "      <td>http://images.amazon.com/images/P/0446364193.0...</td>\n",
              "      <td>195</td>\n",
              "    </tr>\n",
              "    <tr>\n",
              "      <th>...</th>\n",
              "      <td>...</td>\n",
              "      <td>...</td>\n",
              "      <td>...</td>\n",
              "      <td>...</td>\n",
              "      <td>...</td>\n",
              "      <td>...</td>\n",
              "      <td>...</td>\n",
              "      <td>...</td>\n",
              "      <td>...</td>\n",
              "      <td>...</td>\n",
              "      <td>...</td>\n",
              "    </tr>\n",
              "    <tr>\n",
              "      <th>692635</th>\n",
              "      <td>276680</td>\n",
              "      <td>1582343594</td>\n",
              "      <td>0</td>\n",
              "      <td>City of Masks : A Cree Black Novel</td>\n",
              "      <td>Daniel Hecht</td>\n",
              "      <td>2004</td>\n",
              "      <td>Bloomsbury USA</td>\n",
              "      <td>http://images.amazon.com/images/P/1582343594.0...</td>\n",
              "      <td>http://images.amazon.com/images/P/1582343594.0...</td>\n",
              "      <td>http://images.amazon.com/images/P/1582343594.0...</td>\n",
              "      <td>1</td>\n",
              "    </tr>\n",
              "    <tr>\n",
              "      <th>692636</th>\n",
              "      <td>276688</td>\n",
              "      <td>0380790572</td>\n",
              "      <td>0</td>\n",
              "      <td>Jupiter Project</td>\n",
              "      <td>Gregory Benford</td>\n",
              "      <td>1998</td>\n",
              "      <td>Eos</td>\n",
              "      <td>http://images.amazon.com/images/P/0380790572.0...</td>\n",
              "      <td>http://images.amazon.com/images/P/0380790572.0...</td>\n",
              "      <td>http://images.amazon.com/images/P/0380790572.0...</td>\n",
              "      <td>1</td>\n",
              "    </tr>\n",
              "    <tr>\n",
              "      <th>692637</th>\n",
              "      <td>276688</td>\n",
              "      <td>0425150526</td>\n",
              "      <td>0</td>\n",
              "      <td>Death Crosses the Border</td>\n",
              "      <td>Janice Steinberg</td>\n",
              "      <td>1995</td>\n",
              "      <td>Berkley Publishing Group</td>\n",
              "      <td>http://images.amazon.com/images/P/0425150526.0...</td>\n",
              "      <td>http://images.amazon.com/images/P/0425150526.0...</td>\n",
              "      <td>http://images.amazon.com/images/P/0425150526.0...</td>\n",
              "      <td>1</td>\n",
              "    </tr>\n",
              "    <tr>\n",
              "      <th>692638</th>\n",
              "      <td>276688</td>\n",
              "      <td>0449907422</td>\n",
              "      <td>0</td>\n",
              "      <td>Jazz Funeral: A Skip Langdon Novel</td>\n",
              "      <td>Julie Smith</td>\n",
              "      <td>1993</td>\n",
              "      <td>Ballantine Books</td>\n",
              "      <td>http://images.amazon.com/images/P/0449907422.0...</td>\n",
              "      <td>http://images.amazon.com/images/P/0449907422.0...</td>\n",
              "      <td>http://images.amazon.com/images/P/0449907422.0...</td>\n",
              "      <td>1</td>\n",
              "    </tr>\n",
              "    <tr>\n",
              "      <th>692639</th>\n",
              "      <td>276688</td>\n",
              "      <td>0684838672</td>\n",
              "      <td>0</td>\n",
              "      <td>The LANGUAGE OF NAMES : WHAT WE CALL OURSELVES...</td>\n",
              "      <td>Justin Kaplan</td>\n",
              "      <td>1999</td>\n",
              "      <td>Touchstone</td>\n",
              "      <td>http://images.amazon.com/images/P/0684838672.0...</td>\n",
              "      <td>http://images.amazon.com/images/P/0684838672.0...</td>\n",
              "      <td>http://images.amazon.com/images/P/0684838672.0...</td>\n",
              "      <td>1</td>\n",
              "    </tr>\n",
              "  </tbody>\n",
              "</table>\n",
              "<p>692640 rows × 11 columns</p>\n",
              "</div>"
            ],
            "text/plain": [
              "        User-ID  ... Book-Rating_y\n",
              "0        276847  ...           195\n",
              "1        278418  ...           195\n",
              "2          5483  ...           195\n",
              "3          7346  ...           195\n",
              "4          8362  ...           195\n",
              "...         ...  ...           ...\n",
              "692635   276680  ...             1\n",
              "692636   276688  ...             1\n",
              "692637   276688  ...             1\n",
              "692638   276688  ...             1\n",
              "692639   276688  ...             1\n",
              "\n",
              "[692640 rows x 11 columns]"
            ]
          },
          "metadata": {},
          "execution_count": 235
        }
      ]
    },
    {
      "cell_type": "code",
      "metadata": {
        "colab": {
          "base_uri": "https://localhost:8080/",
          "height": 1000
        },
        "id": "NUYfOo9i_nl9",
        "outputId": "5bf2fabf-c198-4d1b-a8a7-6d98a2f95ae7"
      },
      "source": [
        "final_rating = final_rating[final_rating['Book-Rating_y'] >= 30]\n",
        "final_rating"
      ],
      "execution_count": 237,
      "outputs": [
        {
          "output_type": "execute_result",
          "data": {
            "text/html": [
              "<div>\n",
              "<style scoped>\n",
              "    .dataframe tbody tr th:only-of-type {\n",
              "        vertical-align: middle;\n",
              "    }\n",
              "\n",
              "    .dataframe tbody tr th {\n",
              "        vertical-align: top;\n",
              "    }\n",
              "\n",
              "    .dataframe thead th {\n",
              "        text-align: right;\n",
              "    }\n",
              "</style>\n",
              "<table border=\"1\" class=\"dataframe\">\n",
              "  <thead>\n",
              "    <tr style=\"text-align: right;\">\n",
              "      <th></th>\n",
              "      <th>User-ID</th>\n",
              "      <th>ISBN</th>\n",
              "      <th>Book-Rating_x</th>\n",
              "      <th>Book-Title</th>\n",
              "      <th>Book-Author</th>\n",
              "      <th>Year-Of-Publication</th>\n",
              "      <th>Publisher</th>\n",
              "      <th>Image-URL-S</th>\n",
              "      <th>Image-URL-M</th>\n",
              "      <th>Image-URL-L</th>\n",
              "      <th>Book-Rating_y</th>\n",
              "    </tr>\n",
              "  </thead>\n",
              "  <tbody>\n",
              "    <tr>\n",
              "      <th>0</th>\n",
              "      <td>276847</td>\n",
              "      <td>0446364193</td>\n",
              "      <td>0</td>\n",
              "      <td>Along Came a Spider (Alex Cross Novels)</td>\n",
              "      <td>James Patterson</td>\n",
              "      <td>1993</td>\n",
              "      <td>Warner Books</td>\n",
              "      <td>http://images.amazon.com/images/P/0446364193.0...</td>\n",
              "      <td>http://images.amazon.com/images/P/0446364193.0...</td>\n",
              "      <td>http://images.amazon.com/images/P/0446364193.0...</td>\n",
              "      <td>195</td>\n",
              "    </tr>\n",
              "    <tr>\n",
              "      <th>1</th>\n",
              "      <td>278418</td>\n",
              "      <td>0446364193</td>\n",
              "      <td>0</td>\n",
              "      <td>Along Came a Spider (Alex Cross Novels)</td>\n",
              "      <td>James Patterson</td>\n",
              "      <td>1993</td>\n",
              "      <td>Warner Books</td>\n",
              "      <td>http://images.amazon.com/images/P/0446364193.0...</td>\n",
              "      <td>http://images.amazon.com/images/P/0446364193.0...</td>\n",
              "      <td>http://images.amazon.com/images/P/0446364193.0...</td>\n",
              "      <td>195</td>\n",
              "    </tr>\n",
              "    <tr>\n",
              "      <th>2</th>\n",
              "      <td>5483</td>\n",
              "      <td>0446364193</td>\n",
              "      <td>0</td>\n",
              "      <td>Along Came a Spider (Alex Cross Novels)</td>\n",
              "      <td>James Patterson</td>\n",
              "      <td>1993</td>\n",
              "      <td>Warner Books</td>\n",
              "      <td>http://images.amazon.com/images/P/0446364193.0...</td>\n",
              "      <td>http://images.amazon.com/images/P/0446364193.0...</td>\n",
              "      <td>http://images.amazon.com/images/P/0446364193.0...</td>\n",
              "      <td>195</td>\n",
              "    </tr>\n",
              "    <tr>\n",
              "      <th>3</th>\n",
              "      <td>7346</td>\n",
              "      <td>0446364193</td>\n",
              "      <td>0</td>\n",
              "      <td>Along Came a Spider (Alex Cross Novels)</td>\n",
              "      <td>James Patterson</td>\n",
              "      <td>1993</td>\n",
              "      <td>Warner Books</td>\n",
              "      <td>http://images.amazon.com/images/P/0446364193.0...</td>\n",
              "      <td>http://images.amazon.com/images/P/0446364193.0...</td>\n",
              "      <td>http://images.amazon.com/images/P/0446364193.0...</td>\n",
              "      <td>195</td>\n",
              "    </tr>\n",
              "    <tr>\n",
              "      <th>4</th>\n",
              "      <td>8362</td>\n",
              "      <td>0446364193</td>\n",
              "      <td>0</td>\n",
              "      <td>Along Came a Spider (Alex Cross Novels)</td>\n",
              "      <td>James Patterson</td>\n",
              "      <td>1993</td>\n",
              "      <td>Warner Books</td>\n",
              "      <td>http://images.amazon.com/images/P/0446364193.0...</td>\n",
              "      <td>http://images.amazon.com/images/P/0446364193.0...</td>\n",
              "      <td>http://images.amazon.com/images/P/0446364193.0...</td>\n",
              "      <td>195</td>\n",
              "    </tr>\n",
              "    <tr>\n",
              "      <th>...</th>\n",
              "      <td>...</td>\n",
              "      <td>...</td>\n",
              "      <td>...</td>\n",
              "      <td>...</td>\n",
              "      <td>...</td>\n",
              "      <td>...</td>\n",
              "      <td>...</td>\n",
              "      <td>...</td>\n",
              "      <td>...</td>\n",
              "      <td>...</td>\n",
              "      <td>...</td>\n",
              "    </tr>\n",
              "    <tr>\n",
              "      <th>496884</th>\n",
              "      <td>124363</td>\n",
              "      <td>0140434151</td>\n",
              "      <td>0</td>\n",
              "      <td>Emma (Penguin Classics)</td>\n",
              "      <td>Jane Austen</td>\n",
              "      <td>1997</td>\n",
              "      <td>Penguin Books</td>\n",
              "      <td>http://images.amazon.com/images/P/0140434151.0...</td>\n",
              "      <td>http://images.amazon.com/images/P/0140434151.0...</td>\n",
              "      <td>http://images.amazon.com/images/P/0140434151.0...</td>\n",
              "      <td>31</td>\n",
              "    </tr>\n",
              "    <tr>\n",
              "      <th>496885</th>\n",
              "      <td>140013</td>\n",
              "      <td>0140434151</td>\n",
              "      <td>0</td>\n",
              "      <td>Emma (Penguin Classics)</td>\n",
              "      <td>Jane Austen</td>\n",
              "      <td>1997</td>\n",
              "      <td>Penguin Books</td>\n",
              "      <td>http://images.amazon.com/images/P/0140434151.0...</td>\n",
              "      <td>http://images.amazon.com/images/P/0140434151.0...</td>\n",
              "      <td>http://images.amazon.com/images/P/0140434151.0...</td>\n",
              "      <td>31</td>\n",
              "    </tr>\n",
              "    <tr>\n",
              "      <th>496886</th>\n",
              "      <td>264657</td>\n",
              "      <td>0140434151</td>\n",
              "      <td>8</td>\n",
              "      <td>Emma (Penguin Classics)</td>\n",
              "      <td>Jane Austen</td>\n",
              "      <td>1997</td>\n",
              "      <td>Penguin Books</td>\n",
              "      <td>http://images.amazon.com/images/P/0140434151.0...</td>\n",
              "      <td>http://images.amazon.com/images/P/0140434151.0...</td>\n",
              "      <td>http://images.amazon.com/images/P/0140434151.0...</td>\n",
              "      <td>31</td>\n",
              "    </tr>\n",
              "    <tr>\n",
              "      <th>496887</th>\n",
              "      <td>222488</td>\n",
              "      <td>0141439580</td>\n",
              "      <td>0</td>\n",
              "      <td>Emma (Penguin Classics)</td>\n",
              "      <td>Jane Austen</td>\n",
              "      <td>2003</td>\n",
              "      <td>Penguin Books</td>\n",
              "      <td>http://images.amazon.com/images/P/0141439580.0...</td>\n",
              "      <td>http://images.amazon.com/images/P/0141439580.0...</td>\n",
              "      <td>http://images.amazon.com/images/P/0141439580.0...</td>\n",
              "      <td>31</td>\n",
              "    </tr>\n",
              "    <tr>\n",
              "      <th>496888</th>\n",
              "      <td>231857</td>\n",
              "      <td>0141439580</td>\n",
              "      <td>0</td>\n",
              "      <td>Emma (Penguin Classics)</td>\n",
              "      <td>Jane Austen</td>\n",
              "      <td>2003</td>\n",
              "      <td>Penguin Books</td>\n",
              "      <td>http://images.amazon.com/images/P/0141439580.0...</td>\n",
              "      <td>http://images.amazon.com/images/P/0141439580.0...</td>\n",
              "      <td>http://images.amazon.com/images/P/0141439580.0...</td>\n",
              "      <td>31</td>\n",
              "    </tr>\n",
              "  </tbody>\n",
              "</table>\n",
              "<p>189651 rows × 11 columns</p>\n",
              "</div>"
            ],
            "text/plain": [
              "        User-ID  ... Book-Rating_y\n",
              "0        276847  ...           195\n",
              "1        278418  ...           195\n",
              "2          5483  ...           195\n",
              "3          7346  ...           195\n",
              "4          8362  ...           195\n",
              "...         ...  ...           ...\n",
              "496884   124363  ...            31\n",
              "496885   140013  ...            31\n",
              "496886   264657  ...            31\n",
              "496887   222488  ...            31\n",
              "496888   231857  ...            31\n",
              "\n",
              "[189651 rows x 11 columns]"
            ]
          },
          "metadata": {},
          "execution_count": 237
        }
      ]
    },
    {
      "cell_type": "code",
      "metadata": {
        "id": "YEC0R7yh_2DH"
      },
      "source": [
        "book_pivot = final_rating.pivot_table(columns='User-ID', index='Book-Title', values=\"Book-Rating_y\")\n",
        "book_pivot.fillna(0, inplace=True)"
      ],
      "execution_count": 238,
      "outputs": []
    }
  ]
}